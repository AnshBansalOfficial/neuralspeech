{
  "nbformat": 4,
  "nbformat_minor": 0,
  "metadata": {
    "colab": {
      "provenance": []
    },
    "kernelspec": {
      "name": "python3",
      "display_name": "Python 3"
    },
    "language_info": {
      "name": "python"
    }
  },
  "cells": [
    {
      "cell_type": "code",
      "execution_count": 2,
      "metadata": {
        "id": "cwVRItgzyyTf",
        "colab": {
          "base_uri": "https://localhost:8080/"
        },
        "outputId": "2b73f6a6-9873-4aa2-dd42-083634d1a4f2"
      },
      "outputs": [
        {
          "output_type": "stream",
          "name": "stdout",
          "text": [
            "Requirement already satisfied: xgboost in /usr/local/lib/python3.11/dist-packages (2.1.4)\n",
            "Requirement already satisfied: joblib in /usr/local/lib/python3.11/dist-packages (1.5.0)\n",
            "Requirement already satisfied: numpy in /usr/local/lib/python3.11/dist-packages (from xgboost) (2.0.2)\n",
            "Requirement already satisfied: nvidia-nccl-cu12 in /usr/local/lib/python3.11/dist-packages (from xgboost) (2.21.5)\n",
            "Requirement already satisfied: scipy in /usr/local/lib/python3.11/dist-packages (from xgboost) (1.15.3)\n"
          ]
        }
      ],
      "source": [
        "!pip install xgboost joblib\n",
        "\n",
        "import pandas as pd\n",
        "import numpy as np\n",
        "from sklearn.model_selection import train_test_split, cross_val_score\n",
        "from sklearn.preprocessing import StandardScaler, LabelEncoder\n",
        "from sklearn.ensemble import RandomForestClassifier\n",
        "from sklearn.svm import SVC\n",
        "from xgboost import XGBClassifier\n",
        "from sklearn.metrics import accuracy_score, precision_recall_fscore_support, confusion_matrix, classification_report\n",
        "import matplotlib.pyplot as plt\n",
        "import seaborn as sns\n",
        "import joblib\n",
        "from pathlib import Path"
      ]
    },
    {
      "cell_type": "code",
      "source": [
        "from google.colab import files, drive\n",
        "data_path = '/content/drive/MyDrive/vocal_features.csv'\n",
        "df = pd.read_csv(data_path)\n",
        "\n",
        "# Display basic info\n",
        "print(\"Dataset Info:\")\n",
        "print(df.info())\n",
        "print(\"\\nFirst 5 rows:\")\n",
        "print(df.head())\n",
        "\n",
        "print(\"\\nLabel Distribution:\")\n",
        "print(df['Label'].value_counts())"
      ],
      "metadata": {
        "id": "sZxBTdlBy8ab",
        "colab": {
          "base_uri": "https://localhost:8080/"
        },
        "outputId": "58dc1113-a829-4360-b359-4c06c391fc5e"
      },
      "execution_count": 7,
      "outputs": [
        {
          "output_type": "stream",
          "name": "stdout",
          "text": [
            "Dataset Info:\n",
            "<class 'pandas.core.frame.DataFrame'>\n",
            "RangeIndex: 1224 entries, 0 to 1223\n",
            "Data columns (total 39 columns):\n",
            " #   Column        Non-Null Count  Dtype  \n",
            "---  ------        --------------  -----  \n",
            " 0   file_name     1224 non-null   object \n",
            " 1   task          1224 non-null   object \n",
            " 2   pitch_mean    1224 non-null   float64\n",
            " 3   pitch_std     1224 non-null   float64\n",
            " 4   pitch_range   1224 non-null   float64\n",
            " 5   jitter        1224 non-null   float64\n",
            " 6   shimmer       1224 non-null   float64\n",
            " 7   formant_f1    1224 non-null   float64\n",
            " 8   formant_f2    1224 non-null   float64\n",
            " 9   formant_f3    1224 non-null   float64\n",
            " 10  hnr           1224 non-null   float64\n",
            " 11  duration      1224 non-null   float64\n",
            " 12  mfcc_1_mean   1224 non-null   float64\n",
            " 13  mfcc_2_mean   1224 non-null   float64\n",
            " 14  mfcc_3_mean   1224 non-null   float64\n",
            " 15  mfcc_4_mean   1224 non-null   float64\n",
            " 16  mfcc_5_mean   1224 non-null   float64\n",
            " 17  mfcc_6_mean   1224 non-null   float64\n",
            " 18  mfcc_7_mean   1224 non-null   float64\n",
            " 19  mfcc_8_mean   1224 non-null   float64\n",
            " 20  mfcc_9_mean   1224 non-null   float64\n",
            " 21  mfcc_10_mean  1224 non-null   float64\n",
            " 22  mfcc_11_mean  1224 non-null   float64\n",
            " 23  mfcc_12_mean  1224 non-null   float64\n",
            " 24  mfcc_13_mean  1224 non-null   float64\n",
            " 25  mfcc_1_std    1224 non-null   float64\n",
            " 26  mfcc_2_std    1224 non-null   float64\n",
            " 27  mfcc_3_std    1224 non-null   float64\n",
            " 28  mfcc_4_std    1224 non-null   float64\n",
            " 29  mfcc_5_std    1224 non-null   float64\n",
            " 30  mfcc_6_std    1224 non-null   float64\n",
            " 31  mfcc_7_std    1224 non-null   float64\n",
            " 32  mfcc_8_std    1224 non-null   float64\n",
            " 33  mfcc_9_std    1224 non-null   float64\n",
            " 34  mfcc_10_std   1224 non-null   float64\n",
            " 35  mfcc_11_std   1224 non-null   float64\n",
            " 36  mfcc_12_std   1224 non-null   float64\n",
            " 37  mfcc_13_std   1224 non-null   float64\n",
            " 38  Label         1224 non-null   int64  \n",
            "dtypes: float64(36), int64(1), object(2)\n",
            "memory usage: 373.1+ KB\n",
            "None\n",
            "\n",
            "First 5 rows:\n",
            "              file_name     task  pitch_mean  pitch_std  pitch_range  \\\n",
            "0  CT001_phonationA.wav  A_sound  1325.41470  912.30420    3618.6902   \n",
            "1  CT004_phonationA.wav  A_sound   841.18256  476.39902    3570.8670   \n",
            "2  CT010_phonationA.wav  A_sound  1343.21500  876.07870    3646.3306   \n",
            "3  CT013_phonationA.wav  A_sound  1107.63530  648.32310    2786.0286   \n",
            "4  CT014_phonationA.wav  A_sound   847.27185  450.01117    3009.4243   \n",
            "\n",
            "     jitter    shimmer  formant_f1   formant_f2   formant_f3  ...  mfcc_5_std  \\\n",
            "0  0.294239  265.70850  891.582748  1359.153607  2072.019207  ...    7.163743   \n",
            "1  0.241057  191.86191  370.074191  1169.180971  1581.409854  ...    6.137938   \n",
            "2  0.515820  521.05580  877.483329  1402.309505  1942.658516  ...    4.288121   \n",
            "3  0.702787  244.72903  921.644873  1337.010560  1606.724673  ...    4.920764   \n",
            "4  0.375118  178.77040  731.642769  1148.335553  1564.870546  ...    9.562705   \n",
            "\n",
            "   mfcc_6_std  mfcc_7_std  mfcc_8_std  mfcc_9_std  mfcc_10_std  mfcc_11_std  \\\n",
            "0    8.396490    4.653684    5.552095    6.124992     4.935992     3.854430   \n",
            "1    6.236446    6.337742    5.125777    6.999770     4.292547     4.431587   \n",
            "2    5.481315    3.888187    3.892871    4.237118     3.094982     3.379129   \n",
            "3    5.667414    5.067214    4.076546    4.263133     4.741299     3.080546   \n",
            "4    9.871167    7.525806    6.860447    9.702602     6.143957     5.051066   \n",
            "\n",
            "   mfcc_12_std  mfcc_13_std  Label  \n",
            "0     4.115450     4.344887      1  \n",
            "1     4.529175     3.884232      1  \n",
            "2     3.913110     3.021179      1  \n",
            "3     4.525731     3.556032      1  \n",
            "4     6.212568     4.738287      1  \n",
            "\n",
            "[5 rows x 39 columns]\n",
            "\n",
            "Label Distribution:\n",
            "Label\n",
            "1    628\n",
            "0    596\n",
            "Name: count, dtype: int64\n"
          ]
        }
      ]
    },
    {
      "cell_type": "code",
      "source": [
        "# Handle missing values (impute with median for numerical features)\n",
        "numerical_cols = df.select_dtypes(include=['float64', 'int64']).columns\n",
        "\n",
        "# Check for and replace infinite values with NaN\n",
        "df[numerical_cols] = df[numerical_cols].replace([np.inf, -np.inf], np.nan)\n",
        "\n",
        "# Now impute both original NaNs and newly created NaNs with the median\n",
        "df[numerical_cols] = df[numerical_cols].fillna(df[numerical_cols].median())\n",
        "\n",
        "# Encode categorical variables\n",
        "# Encode 'task' column\n",
        "task_encoder = LabelEncoder()\n",
        "df['task_encoded'] = task_encoder.fit_transform(df['task'])\n",
        "joblib.dump(task_encoder, 'task_encoder.pkl')  # Save encoder\n",
        "\n",
        "# Encode 'label' column (skip if no label column)\n",
        "if 'Label' in df.columns:\n",
        "    label_encoder = LabelEncoder()\n",
        "    df['label_encoded'] = label_encoder.fit_transform(df['Label'])\n",
        "    joblib.dump(label_encoder, 'label_encoder.pkl')  # Save encoder\n",
        "else:\n",
        "    raise ValueError(\"Label column missing. Please provide label data.\")\n",
        "\n",
        "# Define features (exclude non-feature columns)\n",
        "feature_cols = [col for col in df.columns if col not in ['file_name', 'task', 'Label', 'label_encoded']]\n",
        "X = df[feature_cols]\n",
        "y = df['label_encoded']\n",
        "\n",
        "# Split data into training and testing sets\n",
        "X_train, X_test, y_train, y_test = train_test_split(X, y, test_size=0.2, random_state=42, stratify=y)\n",
        "\n",
        "# Scale features\n",
        "scaler = StandardScaler()\n",
        "X_train_scaled = scaler.fit_transform(X_train)\n",
        "X_test_scaled = scaler.transform(X_test)\n",
        "joblib.dump(scaler, 'scaler.pkl')  # Save scaler\n",
        "\n",
        "print(f\"Training set shape: {X_train_scaled.shape}\")\n",
        "print(f\"Testing set shape: {X_test_scaled.shape}\")"
      ],
      "metadata": {
        "id": "vKO-0kJEzKLc",
        "colab": {
          "base_uri": "https://localhost:8080/"
        },
        "outputId": "74df8e60-55da-4e96-87fe-d76eb455d656"
      },
      "execution_count": 9,
      "outputs": [
        {
          "output_type": "stream",
          "name": "stdout",
          "text": [
            "Training set shape: (979, 37)\n",
            "Testing set shape: (245, 37)\n"
          ]
        }
      ]
    },
    {
      "cell_type": "code",
      "source": [
        "# Initialize models\n",
        "models = {\n",
        "    'Random Forest': RandomForestClassifier(n_estimators=100, random_state=42),\n",
        "    'SVM': SVC(kernel='rbf', probability=True, random_state=42),\n",
        "    'XGBoost': XGBClassifier(use_label_encoder=False, eval_metric='mlogloss', random_state=42)\n",
        "}\n",
        "\n",
        "# Train and evaluate models\n",
        "results = {}\n",
        "for model_name, model in models.items():\n",
        "    print(f\"\\nTraining {model_name}...\")\n",
        "    model.fit(X_train_scaled, y_train)\n",
        "\n",
        "    # Predict on test set\n",
        "    y_pred = model.predict(X_test_scaled)\n",
        "\n",
        "    # Calculate metrics\n",
        "    accuracy = accuracy_score(y_test, y_pred)\n",
        "    precision, recall, f1, _ = precision_recall_fscore_support(y_test, y_pred, average='weighted')\n",
        "\n",
        "    # Store results\n",
        "    results[model_name] = {\n",
        "        'accuracy': accuracy,\n",
        "        'precision': precision,\n",
        "        'recall': recall,\n",
        "        'f1': f1,\n",
        "        'model': model\n",
        "    }\n",
        "\n",
        "    # Cross-validation score\n",
        "    cv_scores = cross_val_score(model, X_train_scaled, y_train, cv=5, scoring='accuracy')\n",
        "    print(f\"{model_name} - Test Accuracy: {accuracy:.4f}, CV Mean Accuracy: {cv_scores.mean():.4f} ± {cv_scores.std():.4f}\")\n",
        "\n",
        "    # Convert label_encoder classes to strings to avoid TypeError in classification_report\n",
        "    target_class_names = [str(c) for c in label_encoder.classes_]\n",
        "    print(f\"Classification Report:\\n{classification_report(y_test, y_pred, target_names=target_class_names)}\")"
      ],
      "metadata": {
        "id": "qqdNtYFlzO5V",
        "colab": {
          "base_uri": "https://localhost:8080/"
        },
        "outputId": "da996840-2d7f-4d6a-d8d5-42ff78a9cd6e"
      },
      "execution_count": 11,
      "outputs": [
        {
          "output_type": "stream",
          "name": "stdout",
          "text": [
            "\n",
            "Training Random Forest...\n",
            "Random Forest - Test Accuracy: 0.9837, CV Mean Accuracy: 0.9785 ± 0.0119\n",
            "Classification Report:\n",
            "              precision    recall  f1-score   support\n",
            "\n",
            "           0       0.97      1.00      0.98       119\n",
            "           1       1.00      0.97      0.98       126\n",
            "\n",
            "    accuracy                           0.98       245\n",
            "   macro avg       0.98      0.98      0.98       245\n",
            "weighted avg       0.98      0.98      0.98       245\n",
            "\n",
            "\n",
            "Training SVM...\n",
            "SVM - Test Accuracy: 0.9796, CV Mean Accuracy: 0.9744 ± 0.0130\n",
            "Classification Report:\n",
            "              precision    recall  f1-score   support\n",
            "\n",
            "           0       0.97      0.98      0.98       119\n",
            "           1       0.98      0.98      0.98       126\n",
            "\n",
            "    accuracy                           0.98       245\n",
            "   macro avg       0.98      0.98      0.98       245\n",
            "weighted avg       0.98      0.98      0.98       245\n",
            "\n",
            "\n",
            "Training XGBoost...\n"
          ]
        },
        {
          "output_type": "stream",
          "name": "stderr",
          "text": [
            "/usr/local/lib/python3.11/dist-packages/xgboost/core.py:158: UserWarning: [23:59:14] WARNING: /workspace/src/learner.cc:740: \n",
            "Parameters: { \"use_label_encoder\" } are not used.\n",
            "\n",
            "  warnings.warn(smsg, UserWarning)\n",
            "/usr/local/lib/python3.11/dist-packages/xgboost/core.py:158: UserWarning: [23:59:14] WARNING: /workspace/src/learner.cc:740: \n",
            "Parameters: { \"use_label_encoder\" } are not used.\n",
            "\n",
            "  warnings.warn(smsg, UserWarning)\n",
            "/usr/local/lib/python3.11/dist-packages/xgboost/core.py:158: UserWarning: [23:59:14] WARNING: /workspace/src/learner.cc:740: \n",
            "Parameters: { \"use_label_encoder\" } are not used.\n",
            "\n",
            "  warnings.warn(smsg, UserWarning)\n",
            "/usr/local/lib/python3.11/dist-packages/xgboost/core.py:158: UserWarning: [23:59:14] WARNING: /workspace/src/learner.cc:740: \n",
            "Parameters: { \"use_label_encoder\" } are not used.\n",
            "\n",
            "  warnings.warn(smsg, UserWarning)\n",
            "/usr/local/lib/python3.11/dist-packages/xgboost/core.py:158: UserWarning: [23:59:15] WARNING: /workspace/src/learner.cc:740: \n",
            "Parameters: { \"use_label_encoder\" } are not used.\n",
            "\n",
            "  warnings.warn(smsg, UserWarning)\n",
            "/usr/local/lib/python3.11/dist-packages/xgboost/core.py:158: UserWarning: [23:59:15] WARNING: /workspace/src/learner.cc:740: \n",
            "Parameters: { \"use_label_encoder\" } are not used.\n",
            "\n",
            "  warnings.warn(smsg, UserWarning)\n"
          ]
        },
        {
          "output_type": "stream",
          "name": "stdout",
          "text": [
            "XGBoost - Test Accuracy: 0.9837, CV Mean Accuracy: 0.9765 ± 0.0144\n",
            "Classification Report:\n",
            "              precision    recall  f1-score   support\n",
            "\n",
            "           0       0.97      1.00      0.98       119\n",
            "           1       1.00      0.97      0.98       126\n",
            "\n",
            "    accuracy                           0.98       245\n",
            "   macro avg       0.98      0.98      0.98       245\n",
            "weighted avg       0.98      0.98      0.98       245\n",
            "\n"
          ]
        }
      ]
    },
    {
      "cell_type": "code",
      "source": [
        "# Confusion Matrix for the best model (based on F1-score)\n",
        "best_model_name = max(results, key=lambda x: results[x]['f1'])\n",
        "best_model = results[best_model_name]['model']\n",
        "y_pred_best = best_model.predict(X_test_scaled)\n",
        "\n",
        "cm = confusion_matrix(y_test, y_pred_best)\n",
        "plt.figure(figsize=(4, 3))\n",
        "sns.heatmap(cm, annot=True, fmt='d', cmap='Blues', xticklabels=label_encoder.classes_, yticklabels=label_encoder.classes_)\n",
        "plt.title(f'Confusion Matrix - {best_model_name}')\n",
        "plt.xlabel('Predicted')\n",
        "plt.ylabel('True')\n",
        "plt.savefig('confusion_matrix.png')\n",
        "plt.show()\n",
        "\n",
        "# Feature Importance (for Random Forest or XGBoost)\n",
        "if best_model_name in ['Random Forest', 'XGBoost']:\n",
        "    importances = best_model.feature_importances_\n",
        "    indices = np.argsort(importances)[::-1]\n",
        "    plt.figure(figsize=(4, 3))\n",
        "    plt.bar(range(len(importances)), importances[indices], align='center')\n",
        "    plt.xticks(range(len(importances)), [feature_cols[i] for i in indices], rotation=90)\n",
        "    plt.title(f'Feature Importance - {best_model_name} (task_encoded Excluded)')\n",
        "    plt.tight_layout()\n",
        "    plt.savefig('feature_importance_no_task.png')\n",
        "    plt.show()"
      ],
      "metadata": {
        "id": "gn4zi9ECzTlK",
        "colab": {
          "base_uri": "https://localhost:8080/",
          "height": 623
        },
        "outputId": "b88e30d9-f5f0-4fb4-c98f-605460ffb161"
      },
      "execution_count": 17,
      "outputs": [
        {
          "output_type": "display_data",
          "data": {
            "text/plain": [
              "<Figure size 400x300 with 2 Axes>"
            ],
            "image/png": "[encoded data removed]"
          },
          "metadata": {}
        },
        {
          "output_type": "display_data",
          "data": {
            "text/plain": [
              "<Figure size 400x300 with 1 Axes>"
            ],
            "image/png": "[encoded data removed]"
          },
          "metadata": {}
        }
      ]
    },
    {
      "cell_type": "code",
      "source": [
        "# Save the best model\n",
        "joblib.dump(best_model, f'best_model_{best_model_name.lower().replace(\" \", \"_\")}.pkl')\n",
        "print(f\"Best model ({best_model_name}) saved as 'best_model_{best_model_name.lower().replace(' ', '_')}.pkl'\")\n",
        "\n",
        "# Download saved files\n",
        "files.download(f'best_model_{best_model_name.lower().replace(\" \", \"_\")}.pkl')\n",
        "files.download('task_encoder.pkl')\n",
        "files.download('label_encoder.pkl')\n",
        "files.download('scaler.pkl')\n",
        "files.download('model_performance.png')\n",
        "files.download('confusion_matrix.png')\n",
        "if best_model_name in ['Random Forest', 'XGBoost']:\n",
        "    files.download('feature_importance.png')"
      ],
      "metadata": {
        "id": "JwNcZrWnzYaD",
        "colab": {
          "base_uri": "https://localhost:8080/",
          "height": 34
        },
        "outputId": "bb108c6d-ae54-427a-da9f-3f6861b16abb"
      },
      "execution_count": 13,
      "outputs": [
        {
          "output_type": "stream",
          "name": "stdout",
          "text": [
            "Best model (Random Forest) saved as 'best_model_random_forest.pkl'\n"
          ]
        },
        {
          "output_type": "display_data",
          "data": {
            "text/plain": [
              "<IPython.core.display.Javascript object>"
            ],
            "application/javascript": [
              "\n",
              "    async function download(id, filename, size) {\n",
              "      if (!google.colab.kernel.accessAllowed) {\n",
              "        return;\n",
              "      }\n",
              "      const div = document.createElement('div');\n",
              "      const label = document.createElement('label');\n",
              "      label.textContent = `Downloading \"${filename}\": `;\n",
              "      div.appendChild(label);\n",
              "      const progress = document.createElement('progress');\n",
              "      progress.max = size;\n",
              "      div.appendChild(progress);\n",
              "      document.body.appendChild(div);\n",
              "\n",
              "      const buffers = [];\n",
              "      let downloaded = 0;\n",
              "\n",
              "      const channel = await google.colab.kernel.comms.open(id);\n",
              "      // Send a message to notify the kernel that we're ready.\n",
              "      channel.send({})\n",
              "\n",
              "      for await (const message of channel.messages) {\n",
              "        // Send a message to notify the kernel that we're ready.\n",
              "        channel.send({})\n",
              "        if (message.buffers) {\n",
              "          for (const buffer of message.buffers) {\n",
              "            buffers.push(buffer);\n",
              "            downloaded += buffer.byteLength;\n",
              "            progress.value = downloaded;\n",
              "          }\n",
              "        }\n",
              "      }\n",
              "      const blob = new Blob(buffers, {type: 'application/binary'});\n",
              "      const a = document.createElement('a');\n",
              "      a.href = window.URL.createObjectURL(blob);\n",
              "      a.download = filename;\n",
              "      div.appendChild(a);\n",
              "      a.click();\n",
              "      div.remove();\n",
              "    }\n",
              "  "
            ]
          },
          "metadata": {}
        },
        {
          "output_type": "display_data",
          "data": {
            "text/plain": [
              "<IPython.core.display.Javascript object>"
            ],
            "application/javascript": [
              "download(\"download_fee67770-61d9-46d1-a680-e2aec707f94e\", \"best_model_random_forest.pkl\", 592185)"
            ]
          },
          "metadata": {}
        },
        {
          "output_type": "display_data",
          "data": {
            "text/plain": [
              "<IPython.core.display.Javascript object>"
            ],
            "application/javascript": [
              "\n",
              "    async function download(id, filename, size) {\n",
              "      if (!google.colab.kernel.accessAllowed) {\n",
              "        return;\n",
              "      }\n",
              "      const div = document.createElement('div');\n",
              "      const label = document.createElement('label');\n",
              "      label.textContent = `Downloading \"${filename}\": `;\n",
              "      div.appendChild(label);\n",
              "      const progress = document.createElement('progress');\n",
              "      progress.max = size;\n",
              "      div.appendChild(progress);\n",
              "      document.body.appendChild(div);\n",
              "\n",
              "      const buffers = [];\n",
              "      let downloaded = 0;\n",
              "\n",
              "      const channel = await google.colab.kernel.comms.open(id);\n",
              "      // Send a message to notify the kernel that we're ready.\n",
              "      channel.send({})\n",
              "\n",
              "      for await (const message of channel.messages) {\n",
              "        // Send a message to notify the kernel that we're ready.\n",
              "        channel.send({})\n",
              "        if (message.buffers) {\n",
              "          for (const buffer of message.buffers) {\n",
              "            buffers.push(buffer);\n",
              "            downloaded += buffer.byteLength;\n",
              "            progress.value = downloaded;\n",
              "          }\n",
              "        }\n",
              "      }\n",
              "      const blob = new Blob(buffers, {type: 'application/binary'});\n",
              "      const a = document.createElement('a');\n",
              "      a.href = window.URL.createObjectURL(blob);\n",
              "      a.download = filename;\n",
              "      div.appendChild(a);\n",
              "      a.click();\n",
              "      div.remove();\n",
              "    }\n",
              "  "
            ]
          },
          "metadata": {}
        },
        {
          "output_type": "display_data",
          "data": {
            "text/plain": [
              "<IPython.core.display.Javascript object>"
            ],
            "application/javascript": [
              "download(\"download_c1d7226f-ab50-4932-8acc-67bd12097b00\", \"task_encoder.pkl\", 556)"
            ]
          },
          "metadata": {}
        },
        {
          "output_type": "display_data",
          "data": {
            "text/plain": [
              "<IPython.core.display.Javascript object>"
            ],
            "application/javascript": [
              "\n",
              "    async function download(id, filename, size) {\n",
              "      if (!google.colab.kernel.accessAllowed) {\n",
              "        return;\n",
              "      }\n",
              "      const div = document.createElement('div');\n",
              "      const label = document.createElement('label');\n",
              "      label.textContent = `Downloading \"${filename}\": `;\n",
              "      div.appendChild(label);\n",
              "      const progress = document.createElement('progress');\n",
              "      progress.max = size;\n",
              "      div.appendChild(progress);\n",
              "      document.body.appendChild(div);\n",
              "\n",
              "      const buffers = [];\n",
              "      let downloaded = 0;\n",
              "\n",
              "      const channel = await google.colab.kernel.comms.open(id);\n",
              "      // Send a message to notify the kernel that we're ready.\n",
              "      channel.send({})\n",
              "\n",
              "      for await (const message of channel.messages) {\n",
              "        // Send a message to notify the kernel that we're ready.\n",
              "        channel.send({})\n",
              "        if (message.buffers) {\n",
              "          for (const buffer of message.buffers) {\n",
              "            buffers.push(buffer);\n",
              "            downloaded += buffer.byteLength;\n",
              "            progress.value = downloaded;\n",
              "          }\n",
              "        }\n",
              "      }\n",
              "      const blob = new Blob(buffers, {type: 'application/binary'});\n",
              "      const a = document.createElement('a');\n",
              "      a.href = window.URL.createObjectURL(blob);\n",
              "      a.download = filename;\n",
              "      div.appendChild(a);\n",
              "      a.click();\n",
              "      div.remove();\n",
              "    }\n",
              "  "
            ]
          },
          "metadata": {}
        },
        {
          "output_type": "display_data",
          "data": {
            "text/plain": [
              "<IPython.core.display.Javascript object>"
            ],
            "application/javascript": [
              "download(\"download_e3ff04f1-9038-4e62-b222-a995e2975d29\", \"label_encoder.pkl\", 343)"
            ]
          },
          "metadata": {}
        },
        {
          "output_type": "display_data",
          "data": {
            "text/plain": [
              "<IPython.core.display.Javascript object>"
            ],
            "application/javascript": [
              "\n",
              "    async function download(id, filename, size) {\n",
              "      if (!google.colab.kernel.accessAllowed) {\n",
              "        return;\n",
              "      }\n",
              "      const div = document.createElement('div');\n",
              "      const label = document.createElement('label');\n",
              "      label.textContent = `Downloading \"${filename}\": `;\n",
              "      div.appendChild(label);\n",
              "      const progress = document.createElement('progress');\n",
              "      progress.max = size;\n",
              "      div.appendChild(progress);\n",
              "      document.body.appendChild(div);\n",
              "\n",
              "      const buffers = [];\n",
              "      let downloaded = 0;\n",
              "\n",
              "      const channel = await google.colab.kernel.comms.open(id);\n",
              "      // Send a message to notify the kernel that we're ready.\n",
              "      channel.send({})\n",
              "\n",
              "      for await (const message of channel.messages) {\n",
              "        // Send a message to notify the kernel that we're ready.\n",
              "        channel.send({})\n",
              "        if (message.buffers) {\n",
              "          for (const buffer of message.buffers) {\n",
              "            buffers.push(buffer);\n",
              "            downloaded += buffer.byteLength;\n",
              "            progress.value = downloaded;\n",
              "          }\n",
              "        }\n",
              "      }\n",
              "      const blob = new Blob(buffers, {type: 'application/binary'});\n",
              "      const a = document.createElement('a');\n",
              "      a.href = window.URL.createObjectURL(blob);\n",
              "      a.download = filename;\n",
              "      div.appendChild(a);\n",
              "      a.click();\n",
              "      div.remove();\n",
              "    }\n",
              "  "
            ]
          },
          "metadata": {}
        },
        {
          "output_type": "display_data",
          "data": {
            "text/plain": [
              "<IPython.core.display.Javascript object>"
            ],
            "application/javascript": [
              "download(\"download_f3437569-bad7-4dcc-a7d2-3d395c784647\", \"scaler.pkl\", 2223)"
            ]
          },
          "metadata": {}
        },
        {
          "output_type": "display_data",
          "data": {
            "text/plain": [
              "<IPython.core.display.Javascript object>"
            ],
            "application/javascript": [
              "\n",
              "    async function download(id, filename, size) {\n",
              "      if (!google.colab.kernel.accessAllowed) {\n",
              "        return;\n",
              "      }\n",
              "      const div = document.createElement('div');\n",
              "      const label = document.createElement('label');\n",
              "      label.textContent = `Downloading \"${filename}\": `;\n",
              "      div.appendChild(label);\n",
              "      const progress = document.createElement('progress');\n",
              "      progress.max = size;\n",
              "      div.appendChild(progress);\n",
              "      document.body.appendChild(div);\n",
              "\n",
              "      const buffers = [];\n",
              "      let downloaded = 0;\n",
              "\n",
              "      const channel = await google.colab.kernel.comms.open(id);\n",
              "      // Send a message to notify the kernel that we're ready.\n",
              "      channel.send({})\n",
              "\n",
              "      for await (const message of channel.messages) {\n",
              "        // Send a message to notify the kernel that we're ready.\n",
              "        channel.send({})\n",
              "        if (message.buffers) {\n",
              "          for (const buffer of message.buffers) {\n",
              "            buffers.push(buffer);\n",
              "            downloaded += buffer.byteLength;\n",
              "            progress.value = downloaded;\n",
              "          }\n",
              "        }\n",
              "      }\n",
              "      const blob = new Blob(buffers, {type: 'application/binary'});\n",
              "      const a = document.createElement('a');\n",
              "      a.href = window.URL.createObjectURL(blob);\n",
              "      a.download = filename;\n",
              "      div.appendChild(a);\n",
              "      a.click();\n",
              "      div.remove();\n",
              "    }\n",
              "  "
            ]
          },
          "metadata": {}
        },
        {
          "output_type": "display_data",
          "data": {
            "text/plain": [
              "<IPython.core.display.Javascript object>"
            ],
            "application/javascript": [
              "download(\"download_d9d2ca58-c46b-4834-8f93-fd21e8f21008\", \"model_performance.png\", 62250)"
            ]
          },
          "metadata": {}
        },
        {
          "output_type": "display_data",
          "data": {
            "text/plain": [
              "<IPython.core.display.Javascript object>"
            ],
            "application/javascript": [
              "\n",
              "    async function download(id, filename, size) {\n",
              "      if (!google.colab.kernel.accessAllowed) {\n",
              "        return;\n",
              "      }\n",
              "      const div = document.createElement('div');\n",
              "      const label = document.createElement('label');\n",
              "      label.textContent = `Downloading \"${filename}\": `;\n",
              "      div.appendChild(label);\n",
              "      const progress = document.createElement('progress');\n",
              "      progress.max = size;\n",
              "      div.appendChild(progress);\n",
              "      document.body.appendChild(div);\n",
              "\n",
              "      const buffers = [];\n",
              "      let downloaded = 0;\n",
              "\n",
              "      const channel = await google.colab.kernel.comms.open(id);\n",
              "      // Send a message to notify the kernel that we're ready.\n",
              "      channel.send({})\n",
              "\n",
              "      for await (const message of channel.messages) {\n",
              "        // Send a message to notify the kernel that we're ready.\n",
              "        channel.send({})\n",
              "        if (message.buffers) {\n",
              "          for (const buffer of message.buffers) {\n",
              "            buffers.push(buffer);\n",
              "            downloaded += buffer.byteLength;\n",
              "            progress.value = downloaded;\n",
              "          }\n",
              "        }\n",
              "      }\n",
              "      const blob = new Blob(buffers, {type: 'application/binary'});\n",
              "      const a = document.createElement('a');\n",
              "      a.href = window.URL.createObjectURL(blob);\n",
              "      a.download = filename;\n",
              "      div.appendChild(a);\n",
              "      a.click();\n",
              "      div.remove();\n",
              "    }\n",
              "  "
            ]
          },
          "metadata": {}
        },
        {
          "output_type": "display_data",
          "data": {
            "text/plain": [
              "<IPython.core.display.Javascript object>"
            ],
            "application/javascript": [
              "download(\"download_c7cfd1d7-2dde-4bb3-9cd6-66476588f10e\", \"confusion_matrix.png\", 18355)"
            ]
          },
          "metadata": {}
        },
        {
          "output_type": "display_data",
          "data": {
            "text/plain": [
              "<IPython.core.display.Javascript object>"
            ],
            "application/javascript": [
              "\n",
              "    async function download(id, filename, size) {\n",
              "      if (!google.colab.kernel.accessAllowed) {\n",
              "        return;\n",
              "      }\n",
              "      const div = document.createElement('div');\n",
              "      const label = document.createElement('label');\n",
              "      label.textContent = `Downloading \"${filename}\": `;\n",
              "      div.appendChild(label);\n",
              "      const progress = document.createElement('progress');\n",
              "      progress.max = size;\n",
              "      div.appendChild(progress);\n",
              "      document.body.appendChild(div);\n",
              "\n",
              "      const buffers = [];\n",
              "      let downloaded = 0;\n",
              "\n",
              "      const channel = await google.colab.kernel.comms.open(id);\n",
              "      // Send a message to notify the kernel that we're ready.\n",
              "      channel.send({})\n",
              "\n",
              "      for await (const message of channel.messages) {\n",
              "        // Send a message to notify the kernel that we're ready.\n",
              "        channel.send({})\n",
              "        if (message.buffers) {\n",
              "          for (const buffer of message.buffers) {\n",
              "            buffers.push(buffer);\n",
              "            downloaded += buffer.byteLength;\n",
              "            progress.value = downloaded;\n",
              "          }\n",
              "        }\n",
              "      }\n",
              "      const blob = new Blob(buffers, {type: 'application/binary'});\n",
              "      const a = document.createElement('a');\n",
              "      a.href = window.URL.createObjectURL(blob);\n",
              "      a.download = filename;\n",
              "      div.appendChild(a);\n",
              "      a.click();\n",
              "      div.remove();\n",
              "    }\n",
              "  "
            ]
          },
          "metadata": {}
        },
        {
          "output_type": "display_data",
          "data": {
            "text/plain": [
              "<IPython.core.display.Javascript object>"
            ],
            "application/javascript": [
              "download(\"download_cbd753fd-9a14-47d8-b55b-e5c2325c7fb9\", \"feature_importance.png\", 40426)"
            ]
          },
          "metadata": {}
        }
      ]
    }
  ]
}