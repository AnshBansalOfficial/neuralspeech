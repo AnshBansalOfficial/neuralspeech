{
  "nbformat": 4,
  "nbformat_minor": 0,
  "metadata": {
    "colab": {
      "provenance": []
    },
    "kernelspec": {
      "name": "python3",
      "display_name": "Python 3"
    },
    "language_info": {
      "name": "python"
    }
  },
  "cells": [
    {
      "cell_type": "code",
      "execution_count": 2,
      "metadata": {
        "id": "cwVRItgzyyTf",
        "colab": {
          "base_uri": "https://localhost:8080/"
        },
        "outputId": "2b73f6a6-9873-4aa2-dd42-083634d1a4f2"
      },
      "outputs": [
        {
          "output_type": "stream",
          "name": "stdout",
          "text": [
            "Requirement already satisfied: xgboost in /usr/local/lib/python3.11/dist-packages (2.1.4)\n",
            "Requirement already satisfied: joblib in /usr/local/lib/python3.11/dist-packages (1.5.0)\n",
            "Requirement already satisfied: numpy in /usr/local/lib/python3.11/dist-packages (from xgboost) (2.0.2)\n",
            "Requirement already satisfied: nvidia-nccl-cu12 in /usr/local/lib/python3.11/dist-packages (from xgboost) (2.21.5)\n",
            "Requirement already satisfied: scipy in /usr/local/lib/python3.11/dist-packages (from xgboost) (1.15.3)\n"
          ]
        }
      ],
      "source": [
        "!pip install xgboost joblib\n",
        "\n",
        "import pandas as pd\n",
        "import numpy as np\n",
        "from sklearn.model_selection import train_test_split, cross_val_score\n",
        "from sklearn.preprocessing import StandardScaler, LabelEncoder\n",
        "from sklearn.ensemble import RandomForestClassifier\n",
        "from sklearn.svm import SVC\n",
        "from xgboost import XGBClassifier\n",
        "from sklearn.metrics import accuracy_score, precision_recall_fscore_support, confusion_matrix, classification_report\n",
        "import matplotlib.pyplot as plt\n",
        "import seaborn as sns\n",
        "import joblib\n",
        "from pathlib import Path"
      ]
    },
    {
      "cell_type": "code",
      "source": [
        "from google.colab import files, drive\n",
        "data_path = '/content/drive/MyDrive/vocal_features.csv'\n",
        "df = pd.read_csv(data_path)\n",
        "\n",
        "# Display basic info\n",
        "print(\"Dataset Info:\")\n",
        "print(df.info())\n",
        "print(\"\\nFirst 5 rows:\")\n",
        "print(df.head())\n",
        "\n",
        "print(\"\\nLabel Distribution:\")\n",
        "print(df['Label'].value_counts())"
      ],
      "metadata": {
        "id": "sZxBTdlBy8ab",
        "colab": {
          "base_uri": "https://localhost:8080/"
        },
        "outputId": "8601ce13-5632-46bd-afc4-bbe66addd3b1"
      },
      "execution_count": 18,
      "outputs": [
        {
          "output_type": "stream",
          "name": "stdout",
          "text": [
            "Dataset Info:\n",
            "<class 'pandas.core.frame.DataFrame'>\n",
            "RangeIndex: 1224 entries, 0 to 1223\n",
            "Data columns (total 39 columns):\n",
            " #   Column        Non-Null Count  Dtype  \n",
            "---  ------        --------------  -----  \n",
            " 0   file_name     1224 non-null   object \n",
            " 1   task          1224 non-null   object \n",
            " 2   pitch_mean    1224 non-null   float64\n",
            " 3   pitch_std     1224 non-null   float64\n",
            " 4   pitch_range   1224 non-null   float64\n",
            " 5   jitter        1224 non-null   float64\n",
            " 6   shimmer       1224 non-null   float64\n",
            " 7   formant_f1    1224 non-null   float64\n",
            " 8   formant_f2    1224 non-null   float64\n",
            " 9   formant_f3    1224 non-null   float64\n",
            " 10  hnr           1224 non-null   float64\n",
            " 11  duration      1224 non-null   float64\n",
            " 12  mfcc_1_mean   1224 non-null   float64\n",
            " 13  mfcc_2_mean   1224 non-null   float64\n",
            " 14  mfcc_3_mean   1224 non-null   float64\n",
            " 15  mfcc_4_mean   1224 non-null   float64\n",
            " 16  mfcc_5_mean   1224 non-null   float64\n",
            " 17  mfcc_6_mean   1224 non-null   float64\n",
            " 18  mfcc_7_mean   1224 non-null   float64\n",
            " 19  mfcc_8_mean   1224 non-null   float64\n",
            " 20  mfcc_9_mean   1224 non-null   float64\n",
            " 21  mfcc_10_mean  1224 non-null   float64\n",
            " 22  mfcc_11_mean  1224 non-null   float64\n",
            " 23  mfcc_12_mean  1224 non-null   float64\n",
            " 24  mfcc_13_mean  1224 non-null   float64\n",
            " 25  mfcc_1_std    1224 non-null   float64\n",
            " 26  mfcc_2_std    1224 non-null   float64\n",
            " 27  mfcc_3_std    1224 non-null   float64\n",
            " 28  mfcc_4_std    1224 non-null   float64\n",
            " 29  mfcc_5_std    1224 non-null   float64\n",
            " 30  mfcc_6_std    1224 non-null   float64\n",
            " 31  mfcc_7_std    1224 non-null   float64\n",
            " 32  mfcc_8_std    1224 non-null   float64\n",
            " 33  mfcc_9_std    1224 non-null   float64\n",
            " 34  mfcc_10_std   1224 non-null   float64\n",
            " 35  mfcc_11_std   1224 non-null   float64\n",
            " 36  mfcc_12_std   1224 non-null   float64\n",
            " 37  mfcc_13_std   1224 non-null   float64\n",
            " 38  Label         1224 non-null   int64  \n",
            "dtypes: float64(36), int64(1), object(2)\n",
            "memory usage: 373.1+ KB\n",
            "None\n",
            "\n",
            "First 5 rows:\n",
            "              file_name     task  pitch_mean  pitch_std  pitch_range  \\\n",
            "0  CT001_phonationA.wav  A_sound  1325.41470  912.30420    3618.6902   \n",
            "1  CT004_phonationA.wav  A_sound   841.18256  476.39902    3570.8670   \n",
            "2  CT010_phonationA.wav  A_sound  1343.21500  876.07870    3646.3306   \n",
            "3  CT013_phonationA.wav  A_sound  1107.63530  648.32310    2786.0286   \n",
            "4  CT014_phonationA.wav  A_sound   847.27185  450.01117    3009.4243   \n",
            "\n",
            "     jitter    shimmer  formant_f1   formant_f2   formant_f3  ...  mfcc_5_std  \\\n",
            "0  0.294239  265.70850  891.582748  1359.153607  2072.019207  ...    7.163743   \n",
            "1  0.241057  191.86191  370.074191  1169.180971  1581.409854  ...    6.137938   \n",
            "2  0.515820  521.05580  877.483329  1402.309505  1942.658516  ...    4.288121   \n",
            "3  0.702787  244.72903  921.644873  1337.010560  1606.724673  ...    4.920764   \n",
            "4  0.375118  178.77040  731.642769  1148.335553  1564.870546  ...    9.562705   \n",
            "\n",
            "   mfcc_6_std  mfcc_7_std  mfcc_8_std  mfcc_9_std  mfcc_10_std  mfcc_11_std  \\\n",
            "0    8.396490    4.653684    5.552095    6.124992     4.935992     3.854430   \n",
            "1    6.236446    6.337742    5.125777    6.999770     4.292547     4.431587   \n",
            "2    5.481315    3.888187    3.892871    4.237118     3.094982     3.379129   \n",
            "3    5.667414    5.067214    4.076546    4.263133     4.741299     3.080546   \n",
            "4    9.871167    7.525806    6.860447    9.702602     6.143957     5.051066   \n",
            "\n",
            "   mfcc_12_std  mfcc_13_std  Label  \n",
            "0     4.115450     4.344887      0  \n",
            "1     4.529175     3.884232      0  \n",
            "2     3.913110     3.021179      0  \n",
            "3     4.525731     3.556032      0  \n",
            "4     6.212568     4.738287      0  \n",
            "\n",
            "[5 rows x 39 columns]\n",
            "\n",
            "Label Distribution:\n",
            "Label\n",
            "1    816\n",
            "0    408\n",
            "Name: count, dtype: int64\n"
          ]
        }
      ]
    },
    {
      "cell_type": "code",
      "source": [
        "# Handle missing values (impute with median for numerical features)\n",
        "numerical_cols = df.select_dtypes(include=['float64', 'int64']).columns\n",
        "\n",
        "# Check for and replace infinite values with NaN\n",
        "df[numerical_cols] = df[numerical_cols].replace([np.inf, -np.inf], np.nan)\n",
        "\n",
        "# Now impute both original NaNs and newly created NaNs with the median\n",
        "df[numerical_cols] = df[numerical_cols].fillna(df[numerical_cols].median())\n",
        "\n",
        "# Encode categorical variables\n",
        "# Encode 'task' column\n",
        "task_encoder = LabelEncoder()\n",
        "df['task_encoded'] = task_encoder.fit_transform(df['task'])\n",
        "joblib.dump(task_encoder, 'task_encoder.pkl')  # Save encoder\n",
        "\n",
        "# Encode 'label' column (skip if no label column)\n",
        "if 'Label' in df.columns:\n",
        "    label_encoder = LabelEncoder()\n",
        "    df['label_encoded'] = label_encoder.fit_transform(df['Label'])\n",
        "    joblib.dump(label_encoder, 'label_encoder.pkl')  # Save encoder\n",
        "else:\n",
        "    raise ValueError(\"Label column missing. Please provide label data.\")\n",
        "\n",
        "# Define features (exclude non-feature columns)\n",
        "feature_cols = [col for col in df.columns if col not in ['file_name', 'task', 'Label', 'label_encoded']]\n",
        "X = df[feature_cols]\n",
        "y = df['label_encoded']\n",
        "\n",
        "# Split data into training and testing sets\n",
        "X_train, X_test, y_train, y_test = train_test_split(X, y, test_size=0.2, random_state=42, stratify=y)\n",
        "\n",
        "# Scale features\n",
        "scaler = StandardScaler()\n",
        "X_train_scaled = scaler.fit_transform(X_train)\n",
        "X_test_scaled = scaler.transform(X_test)\n",
        "joblib.dump(scaler, 'scaler.pkl')  # Save scaler\n",
        "\n",
        "print(f\"Training set shape: {X_train_scaled.shape}\")\n",
        "print(f\"Testing set shape: {X_test_scaled.shape}\")"
      ],
      "metadata": {
        "id": "vKO-0kJEzKLc",
        "colab": {
          "base_uri": "https://localhost:8080/"
        },
        "outputId": "66f047f9-528a-4072-e34f-741181587d1d"
      },
      "execution_count": 19,
      "outputs": [
        {
          "output_type": "stream",
          "name": "stdout",
          "text": [
            "Training set shape: (979, 37)\n",
            "Testing set shape: (245, 37)\n"
          ]
        }
      ]
    },
    {
      "cell_type": "code",
      "source": [
        "from sklearn.ensemble import RandomForestClassifier\n",
        "from sklearn.svm import SVC\n",
        "from xgboost import XGBClassifier\n",
        "\n",
        "# Initialize models with class weight\n",
        "models = {\n",
        "    'Random Forest': RandomForestClassifier(n_estimators=100, class_weight='balanced', random_state=42),\n",
        "    'SVM': SVC(kernel='rbf', probability=True, class_weight='balanced', random_state=42),\n",
        "    'XGBoost': XGBClassifier(eval_metric='mlogloss', scale_pos_weight=0.5, random_state=42)\n",
        "}\n",
        "\n",
        "\n",
        "# Train and evaluate models\n",
        "results = {}\n",
        "for model_name, model in models.items():\n",
        "    print(f\"\\nTraining {model_name}...\")\n",
        "    model.fit(X_train_scaled, y_train)\n",
        "\n",
        "    # Predict on test set\n",
        "    y_pred = model.predict(X_test_scaled)\n",
        "\n",
        "    # Calculate metrics\n",
        "    accuracy = accuracy_score(y_test, y_pred)\n",
        "    precision, recall, f1, _ = precision_recall_fscore_support(y_test, y_pred, average='weighted')\n",
        "\n",
        "    # Store results\n",
        "    results[model_name] = {\n",
        "        'accuracy': accuracy,\n",
        "        'precision': precision,\n",
        "        'recall': recall,\n",
        "        'f1': f1,\n",
        "        'model': model\n",
        "    }\n",
        "\n",
        "    # Cross-validation score\n",
        "    cv_scores = cross_val_score(model, X_train_scaled, y_train, cv=5, scoring='accuracy')\n",
        "    print(f\"{model_name} - Test Accuracy: {accuracy:.4f}, CV Mean Accuracy: {cv_scores.mean():.4f} ± {cv_scores.std():.4f}\")\n",
        "\n",
        "    # Convert label_encoder classes to strings to avoid TypeError in classification_report\n",
        "    target_class_names = [str(c) for c in label_encoder.classes_]\n",
        "    print(f\"Classification Report:\\n{classification_report(y_test, y_pred, target_names=target_class_names)}\")"
      ],
      "metadata": {
        "id": "qqdNtYFlzO5V",
        "colab": {
          "base_uri": "https://localhost:8080/"
        },
        "outputId": "56a61685-cac4-47b8-e065-76315da0b63e"
      },
      "execution_count": 27,
      "outputs": [
        {
          "output_type": "stream",
          "name": "stdout",
          "text": [
            "\n",
            "Training Random Forest...\n",
            "Random Forest - Test Accuracy: 0.7388, CV Mean Accuracy: 0.6630 ± 0.0435\n",
            "Classification Report:\n",
            "              precision    recall  f1-score   support\n",
            "\n",
            "           0       0.74      0.34      0.47        82\n",
            "           1       0.74      0.94      0.83       163\n",
            "\n",
            "    accuracy                           0.74       245\n",
            "   macro avg       0.74      0.64      0.65       245\n",
            "weighted avg       0.74      0.74      0.71       245\n",
            "\n",
            "\n",
            "Training SVM...\n",
            "SVM - Test Accuracy: 0.6694, CV Mean Accuracy: 0.6292 ± 0.0231\n",
            "Classification Report:\n",
            "              precision    recall  f1-score   support\n",
            "\n",
            "           0       0.50      0.79      0.62        82\n",
            "           1       0.85      0.61      0.71       163\n",
            "\n",
            "    accuracy                           0.67       245\n",
            "   macro avg       0.68      0.70      0.66       245\n",
            "weighted avg       0.74      0.67      0.68       245\n",
            "\n",
            "\n",
            "Training XGBoost...\n",
            "XGBoost - Test Accuracy: 0.7265, CV Mean Accuracy: 0.6395 ± 0.0308\n",
            "Classification Report:\n",
            "              precision    recall  f1-score   support\n",
            "\n",
            "           0       0.59      0.57      0.58        82\n",
            "           1       0.79      0.80      0.80       163\n",
            "\n",
            "    accuracy                           0.73       245\n",
            "   macro avg       0.69      0.69      0.69       245\n",
            "weighted avg       0.72      0.73      0.73       245\n",
            "\n"
          ]
        }
      ]
    },
    {
      "cell_type": "code",
      "source": [
        "# Confusion Matrix for the best model (based on F1-score)\n",
        "best_model_name = max(results, key=lambda x: results[x]['f1'])\n",
        "best_model = results[best_model_name]['model']\n",
        "y_pred_best = best_model.predict(X_test_scaled)\n",
        "\n",
        "cm = confusion_matrix(y_test, y_pred_best)\n",
        "plt.figure(figsize=(4, 3))\n",
        "sns.heatmap(cm, annot=True, fmt='d', cmap='Blues', xticklabels=label_encoder.classes_, yticklabels=label_encoder.classes_)\n",
        "plt.title(f'Confusion Matrix - {best_model_name}')\n",
        "plt.xlabel('Predicted')\n",
        "plt.ylabel('True')\n",
        "plt.savefig('confusion_matrix.png')\n",
        "plt.show()\n",
        "\n",
        "# Feature Importance (for Random Forest or XGBoost)\n",
        "if best_model_name in ['Random Forest', 'XGBoost']:\n",
        "    importances = best_model.feature_importances_\n",
        "    indices = np.argsort(importances)[::-1]\n",
        "    plt.figure(figsize=(8, 6))\n",
        "    plt.bar(range(len(importances)), importances[indices], align='center')\n",
        "    plt.xticks(range(len(importances)), [feature_cols[i] for i in indices], rotation=90)\n",
        "    plt.title(f'Feature Importance - {best_model_name}')\n",
        "    plt.tight_layout()\n",
        "    plt.savefig('feature_importance_no_task.png')\n",
        "    plt.show()"
      ],
      "metadata": {
        "id": "gn4zi9ECzTlK",
        "colab": {
          "base_uri": "https://localhost:8080/",
          "height": 923
        },
        "outputId": "f003ae77-2e38-48c1-a475-c207f2c70251"
      },
      "execution_count": 28,
      "outputs": [
        {
          "output_type": "display_data",
          "data": {
            "text/plain": [
              "<Figure size 400x300 with 2 Axes>"
            ],
            "image/png": "[encoded data removed]"
          },
          "metadata": {}
        },
        {
          "output_type": "display_data",
          "data": {
            "text/plain": [
              "<Figure size 800x600 with 1 Axes>"
            ],
            "image/png": "[encoded data removed]"
          },
          "metadata": {}
        }
      ]
    },
    {
      "cell_type": "code",
      "source": [
        "# Save the best model\n",
        "joblib.dump(best_model, f'best_model_{best_model_name.lower().replace(\" \", \"_\")}.pkl')\n",
        "print(f\"Best model ({best_model_name}) saved as 'best_model_{best_model_name.lower().replace(' ', '_')}.pkl'\")\n",
        "\n",
        "# Download saved files\n",
        "files.download(f'best_model_{best_model_name.lower().replace(\" \", \"_\")}.pkl')\n",
        "files.download('task_encoder.pkl')\n",
        "files.download('label_encoder.pkl')\n",
        "files.download('scaler.pkl')\n",
        "files.download('model_performance.png')\n",
        "files.download('confusion_matrix.png')\n",
        "if best_model_name in ['Random Forest', 'XGBoost']:\n",
        "    files.download('feature_importance.png')"
      ],
      "metadata": {
        "id": "JwNcZrWnzYaD",
        "colab": {
          "base_uri": "https://localhost:8080/",
          "height": 34
        },
        "outputId": "590eb0f7-fbad-4e61-b80e-ecd511497b13"
      },
      "execution_count": 29,
      "outputs": [
        {
          "output_type": "stream",
          "name": "stdout",
          "text": [
            "Best model (XGBoost) saved as 'best_model_xgboost.pkl'\n"
          ]
        },
        {
          "output_type": "display_data",
          "data": {
            "text/plain": [
              "<IPython.core.display.Javascript object>"
            ],
            "application/javascript": [
              "\n",
              "    async function download(id, filename, size) {\n",
              "      if (!google.colab.kernel.accessAllowed) {\n",
              "        return;\n",
              "      }\n",
              "      const div = document.createElement('div');\n",
              "      const label = document.createElement('label');\n",
              "      label.textContent = `Downloading \"${filename}\": `;\n",
              "      div.appendChild(label);\n",
              "      const progress = document.createElement('progress');\n",
              "      progress.max = size;\n",
              "      div.appendChild(progress);\n",
              "      document.body.appendChild(div);\n",
              "\n",
              "      const buffers = [];\n",
              "      let downloaded = 0;\n",
              "\n",
              "      const channel = await google.colab.kernel.comms.open(id);\n",
              "      // Send a message to notify the kernel that we're ready.\n",
              "      channel.send({})\n",
              "\n",
              "      for await (const message of channel.messages) {\n",
              "        // Send a message to notify the kernel that we're ready.\n",
              "        channel.send({})\n",
              "        if (message.buffers) {\n",
              "          for (const buffer of message.buffers) {\n",
              "            buffers.push(buffer);\n",
              "            downloaded += buffer.byteLength;\n",
              "            progress.value = downloaded;\n",
              "          }\n",
              "        }\n",
              "      }\n",
              "      const blob = new Blob(buffers, {type: 'application/binary'});\n",
              "      const a = document.createElement('a');\n",
              "      a.href = window.URL.createObjectURL(blob);\n",
              "      a.download = filename;\n",
              "      div.appendChild(a);\n",
              "      a.click();\n",
              "      div.remove();\n",
              "    }\n",
              "  "
            ]
          },
          "metadata": {}
        },
        {
          "output_type": "display_data",
          "data": {
            "text/plain": [
              "<IPython.core.display.Javascript object>"
            ],
            "application/javascript": [
              "download(\"download_c1f3c6a8-9a72-4711-a8a0-f7b8fda04811\", \"best_model_xgboost.pkl\", 192937)"
            ]
          },
          "metadata": {}
        },
        {
          "output_type": "display_data",
          "data": {
            "text/plain": [
              "<IPython.core.display.Javascript object>"
            ],
            "application/javascript": [
              "\n",
              "    async function download(id, filename, size) {\n",
              "      if (!google.colab.kernel.accessAllowed) {\n",
              "        return;\n",
              "      }\n",
              "      const div = document.createElement('div');\n",
              "      const label = document.createElement('label');\n",
              "      label.textContent = `Downloading \"${filename}\": `;\n",
              "      div.appendChild(label);\n",
              "      const progress = document.createElement('progress');\n",
              "      progress.max = size;\n",
              "      div.appendChild(progress);\n",
              "      document.body.appendChild(div);\n",
              "\n",
              "      const buffers = [];\n",
              "      let downloaded = 0;\n",
              "\n",
              "      const channel = await google.colab.kernel.comms.open(id);\n",
              "      // Send a message to notify the kernel that we're ready.\n",
              "      channel.send({})\n",
              "\n",
              "      for await (const message of channel.messages) {\n",
              "        // Send a message to notify the kernel that we're ready.\n",
              "        channel.send({})\n",
              "        if (message.buffers) {\n",
              "          for (const buffer of message.buffers) {\n",
              "            buffers.push(buffer);\n",
              "            downloaded += buffer.byteLength;\n",
              "            progress.value = downloaded;\n",
              "          }\n",
              "        }\n",
              "      }\n",
              "      const blob = new Blob(buffers, {type: 'application/binary'});\n",
              "      const a = document.createElement('a');\n",
              "      a.href = window.URL.createObjectURL(blob);\n",
              "      a.download = filename;\n",
              "      div.appendChild(a);\n",
              "      a.click();\n",
              "      div.remove();\n",
              "    }\n",
              "  "
            ]
          },
          "metadata": {}
        },
        {
          "output_type": "display_data",
          "data": {
            "text/plain": [
              "<IPython.core.display.Javascript object>"
            ],
            "application/javascript": [
              "download(\"download_512a1465-7396-4663-86cd-b4c0f3534da0\", \"task_encoder.pkl\", 556)"
            ]
          },
          "metadata": {}
        },
        {
          "output_type": "display_data",
          "data": {
            "text/plain": [
              "<IPython.core.display.Javascript object>"
            ],
            "application/javascript": [
              "\n",
              "    async function download(id, filename, size) {\n",
              "      if (!google.colab.kernel.accessAllowed) {\n",
              "        return;\n",
              "      }\n",
              "      const div = document.createElement('div');\n",
              "      const label = document.createElement('label');\n",
              "      label.textContent = `Downloading \"${filename}\": `;\n",
              "      div.appendChild(label);\n",
              "      const progress = document.createElement('progress');\n",
              "      progress.max = size;\n",
              "      div.appendChild(progress);\n",
              "      document.body.appendChild(div);\n",
              "\n",
              "      const buffers = [];\n",
              "      let downloaded = 0;\n",
              "\n",
              "      const channel = await google.colab.kernel.comms.open(id);\n",
              "      // Send a message to notify the kernel that we're ready.\n",
              "      channel.send({})\n",
              "\n",
              "      for await (const message of channel.messages) {\n",
              "        // Send a message to notify the kernel that we're ready.\n",
              "        channel.send({})\n",
              "        if (message.buffers) {\n",
              "          for (const buffer of message.buffers) {\n",
              "            buffers.push(buffer);\n",
              "            downloaded += buffer.byteLength;\n",
              "            progress.value = downloaded;\n",
              "          }\n",
              "        }\n",
              "      }\n",
              "      const blob = new Blob(buffers, {type: 'application/binary'});\n",
              "      const a = document.createElement('a');\n",
              "      a.href = window.URL.createObjectURL(blob);\n",
              "      a.download = filename;\n",
              "      div.appendChild(a);\n",
              "      a.click();\n",
              "      div.remove();\n",
              "    }\n",
              "  "
            ]
          },
          "metadata": {}
        },
        {
          "output_type": "display_data",
          "data": {
            "text/plain": [
              "<IPython.core.display.Javascript object>"
            ],
            "application/javascript": [
              "download(\"download_5aba6ddc-a0b9-488a-acc7-43814b656bda\", \"label_encoder.pkl\", 343)"
            ]
          },
          "metadata": {}
        },
        {
          "output_type": "display_data",
          "data": {
            "text/plain": [
              "<IPython.core.display.Javascript object>"
            ],
            "application/javascript": [
              "\n",
              "    async function download(id, filename, size) {\n",
              "      if (!google.colab.kernel.accessAllowed) {\n",
              "        return;\n",
              "      }\n",
              "      const div = document.createElement('div');\n",
              "      const label = document.createElement('label');\n",
              "      label.textContent = `Downloading \"${filename}\": `;\n",
              "      div.appendChild(label);\n",
              "      const progress = document.createElement('progress');\n",
              "      progress.max = size;\n",
              "      div.appendChild(progress);\n",
              "      document.body.appendChild(div);\n",
              "\n",
              "      const buffers = [];\n",
              "      let downloaded = 0;\n",
              "\n",
              "      const channel = await google.colab.kernel.comms.open(id);\n",
              "      // Send a message to notify the kernel that we're ready.\n",
              "      channel.send({})\n",
              "\n",
              "      for await (const message of channel.messages) {\n",
              "        // Send a message to notify the kernel that we're ready.\n",
              "        channel.send({})\n",
              "        if (message.buffers) {\n",
              "          for (const buffer of message.buffers) {\n",
              "            buffers.push(buffer);\n",
              "            downloaded += buffer.byteLength;\n",
              "            progress.value = downloaded;\n",
              "          }\n",
              "        }\n",
              "      }\n",
              "      const blob = new Blob(buffers, {type: 'application/binary'});\n",
              "      const a = document.createElement('a');\n",
              "      a.href = window.URL.createObjectURL(blob);\n",
              "      a.download = filename;\n",
              "      div.appendChild(a);\n",
              "      a.click();\n",
              "      div.remove();\n",
              "    }\n",
              "  "
            ]
          },
          "metadata": {}
        },
        {
          "output_type": "display_data",
          "data": {
            "text/plain": [
              "<IPython.core.display.Javascript object>"
            ],
            "application/javascript": [
              "download(\"download_ba439f12-d808-42e7-a408-8dc7d231dfb3\", \"scaler.pkl\", 2223)"
            ]
          },
          "metadata": {}
        },
        {
          "output_type": "display_data",
          "data": {
            "text/plain": [
              "<IPython.core.display.Javascript object>"
            ],
            "application/javascript": [
              "\n",
              "    async function download(id, filename, size) {\n",
              "      if (!google.colab.kernel.accessAllowed) {\n",
              "        return;\n",
              "      }\n",
              "      const div = document.createElement('div');\n",
              "      const label = document.createElement('label');\n",
              "      label.textContent = `Downloading \"${filename}\": `;\n",
              "      div.appendChild(label);\n",
              "      const progress = document.createElement('progress');\n",
              "      progress.max = size;\n",
              "      div.appendChild(progress);\n",
              "      document.body.appendChild(div);\n",
              "\n",
              "      const buffers = [];\n",
              "      let downloaded = 0;\n",
              "\n",
              "      const channel = await google.colab.kernel.comms.open(id);\n",
              "      // Send a message to notify the kernel that we're ready.\n",
              "      channel.send({})\n",
              "\n",
              "      for await (const message of channel.messages) {\n",
              "        // Send a message to notify the kernel that we're ready.\n",
              "        channel.send({})\n",
              "        if (message.buffers) {\n",
              "          for (const buffer of message.buffers) {\n",
              "            buffers.push(buffer);\n",
              "            downloaded += buffer.byteLength;\n",
              "            progress.value = downloaded;\n",
              "          }\n",
              "        }\n",
              "      }\n",
              "      const blob = new Blob(buffers, {type: 'application/binary'});\n",
              "      const a = document.createElement('a');\n",
              "      a.href = window.URL.createObjectURL(blob);\n",
              "      a.download = filename;\n",
              "      div.appendChild(a);\n",
              "      a.click();\n",
              "      div.remove();\n",
              "    }\n",
              "  "
            ]
          },
          "metadata": {}
        },
        {
          "output_type": "display_data",
          "data": {
            "text/plain": [
              "<IPython.core.display.Javascript object>"
            ],
            "application/javascript": [
              "download(\"download_b7f0c25b-540c-4af9-b36c-f83628a65914\", \"model_performance.png\", 33906)"
            ]
          },
          "metadata": {}
        },
        {
          "output_type": "display_data",
          "data": {
            "text/plain": [
              "<IPython.core.display.Javascript object>"
            ],
            "application/javascript": [
              "\n",
              "    async function download(id, filename, size) {\n",
              "      if (!google.colab.kernel.accessAllowed) {\n",
              "        return;\n",
              "      }\n",
              "      const div = document.createElement('div');\n",
              "      const label = document.createElement('label');\n",
              "      label.textContent = `Downloading \"${filename}\": `;\n",
              "      div.appendChild(label);\n",
              "      const progress = document.createElement('progress');\n",
              "      progress.max = size;\n",
              "      div.appendChild(progress);\n",
              "      document.body.appendChild(div);\n",
              "\n",
              "      const buffers = [];\n",
              "      let downloaded = 0;\n",
              "\n",
              "      const channel = await google.colab.kernel.comms.open(id);\n",
              "      // Send a message to notify the kernel that we're ready.\n",
              "      channel.send({})\n",
              "\n",
              "      for await (const message of channel.messages) {\n",
              "        // Send a message to notify the kernel that we're ready.\n",
              "        channel.send({})\n",
              "        if (message.buffers) {\n",
              "          for (const buffer of message.buffers) {\n",
              "            buffers.push(buffer);\n",
              "            downloaded += buffer.byteLength;\n",
              "            progress.value = downloaded;\n",
              "          }\n",
              "        }\n",
              "      }\n",
              "      const blob = new Blob(buffers, {type: 'application/binary'});\n",
              "      const a = document.createElement('a');\n",
              "      a.href = window.URL.createObjectURL(blob);\n",
              "      a.download = filename;\n",
              "      div.appendChild(a);\n",
              "      a.click();\n",
              "      div.remove();\n",
              "    }\n",
              "  "
            ]
          },
          "metadata": {}
        },
        {
          "output_type": "display_data",
          "data": {
            "text/plain": [
              "<IPython.core.display.Javascript object>"
            ],
            "application/javascript": [
              "download(\"download_451bc287-522c-427f-8633-fcc4fc5a5252\", \"confusion_matrix.png\", 13062)"
            ]
          },
          "metadata": {}
        },
        {
          "output_type": "display_data",
          "data": {
            "text/plain": [
              "<IPython.core.display.Javascript object>"
            ],
            "application/javascript": [
              "\n",
              "    async function download(id, filename, size) {\n",
              "      if (!google.colab.kernel.accessAllowed) {\n",
              "        return;\n",
              "      }\n",
              "      const div = document.createElement('div');\n",
              "      const label = document.createElement('label');\n",
              "      label.textContent = `Downloading \"${filename}\": `;\n",
              "      div.appendChild(label);\n",
              "      const progress = document.createElement('progress');\n",
              "      progress.max = size;\n",
              "      div.appendChild(progress);\n",
              "      document.body.appendChild(div);\n",
              "\n",
              "      const buffers = [];\n",
              "      let downloaded = 0;\n",
              "\n",
              "      const channel = await google.colab.kernel.comms.open(id);\n",
              "      // Send a message to notify the kernel that we're ready.\n",
              "      channel.send({})\n",
              "\n",
              "      for await (const message of channel.messages) {\n",
              "        // Send a message to notify the kernel that we're ready.\n",
              "        channel.send({})\n",
              "        if (message.buffers) {\n",
              "          for (const buffer of message.buffers) {\n",
              "            buffers.push(buffer);\n",
              "            downloaded += buffer.byteLength;\n",
              "            progress.value = downloaded;\n",
              "          }\n",
              "        }\n",
              "      }\n",
              "      const blob = new Blob(buffers, {type: 'application/binary'});\n",
              "      const a = document.createElement('a');\n",
              "      a.href = window.URL.createObjectURL(blob);\n",
              "      a.download = filename;\n",
              "      div.appendChild(a);\n",
              "      a.click();\n",
              "      div.remove();\n",
              "    }\n",
              "  "
            ]
          },
          "metadata": {}
        },
        {
          "output_type": "display_data",
          "data": {
            "text/plain": [
              "<IPython.core.display.Javascript object>"
            ],
            "application/javascript": [
              "download(\"download_2298d375-b161-4d1e-b1ee-b44f500d40ab\", \"feature_importance.png\", 30441)"
            ]
          },
          "metadata": {}
        }
      ]
    }
  ]
}